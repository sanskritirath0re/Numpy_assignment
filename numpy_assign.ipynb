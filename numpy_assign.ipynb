{
 "cells": [
  {
   "cell_type": "code",
   "execution_count": 1,
   "id": "936b35d0-2ef3-4d5d-9c6c-1cb1b6575011",
   "metadata": {},
   "outputs": [],
   "source": [
    "import numpy as np\n",
    "import pandas as pd"
   ]
  },
  {
   "cell_type": "code",
   "execution_count": 21,
   "id": "618cae43-7cea-4371-8c93-1b82c4edceef",
   "metadata": {},
   "outputs": [
    {
     "data": {
      "text/plain": [
       "array([0, 1, 2, 3, 4, 5])"
      ]
     },
     "execution_count": 21,
     "metadata": {},
     "output_type": "execute_result"
    }
   ],
   "source": [
    "#1.Create a NumPy array 'arr' of integers from 0 to 5 and print its data type.\n",
    "arr=np.array([0,1,2,3,4,5])\n",
    "arr"
   ]
  },
  {
   "cell_type": "code",
   "execution_count": 22,
   "id": "d2b45dda-58e0-465d-a494-231997f1c6e7",
   "metadata": {},
   "outputs": [
    {
     "data": {
      "text/plain": [
       "dtype('int64')"
      ]
     },
     "execution_count": 22,
     "metadata": {},
     "output_type": "execute_result"
    }
   ],
   "source": [
    "arr.dtype"
   ]
  },
  {
   "cell_type": "code",
   "execution_count": 16,
   "id": "fe299247-7288-4d6a-96b0-7c7ec86e539d",
   "metadata": {},
   "outputs": [
    {
     "name": "stdout",
     "output_type": "stream",
     "text": [
      "true\n"
     ]
    }
   ],
   "source": [
    "#2.Given a NumPy array 'arr', check if its data type is float64.\n",
    "arr = np.array([1.5, 2.6, 3.7])\n",
    "#arr.dtype\n",
    "if arr.dtype == np.float64:\n",
    "    print(\"true\")\n",
    "else:\n",
    "    print(\"false\")"
   ]
  },
  {
   "cell_type": "code",
   "execution_count": 18,
   "id": "0e1e78b2-2db2-4c55-887c-30a01293bb0d",
   "metadata": {},
   "outputs": [
    {
     "data": {
      "text/plain": [
       "array([1.+2.j, 3.+4.j, 5.+6.j])"
      ]
     },
     "execution_count": 18,
     "metadata": {},
     "output_type": "execute_result"
    }
   ],
   "source": [
    "#3.Create a NumPy array 'arr' with a data type of complex128 containing three complex numbers.\n",
    "arr=np.array([1 + 2j, 3 + 4j, 5 + 6j],dtype=np.complex128)\n",
    "arr"
   ]
  },
  {
   "cell_type": "code",
   "execution_count": 35,
   "id": "4b16d41d-868c-4548-9570-4e3863e91f9d",
   "metadata": {},
   "outputs": [
    {
     "data": {
      "text/plain": [
       "array([1., 2., 3., 4., 5.], dtype=float32)"
      ]
     },
     "execution_count": 35,
     "metadata": {},
     "output_type": "execute_result"
    }
   ],
   "source": [
    "#4.Convert an existing NumPy array 'arr' of integers to float32 data type.\n",
    "arr=np.array([1,2,3,4,5])\n",
    "arr_2 = arr.astype(np.float32)\n",
    "arr_2"
   ]
  },
  {
   "cell_type": "code",
   "execution_count": 37,
   "id": "ec08f658-f84e-4062-bac8-b0c415fe561b",
   "metadata": {},
   "outputs": [
    {
     "data": {
      "text/plain": [
       "array([1.234, 2.345, 3.456], dtype=float32)"
      ]
     },
     "execution_count": 37,
     "metadata": {},
     "output_type": "execute_result"
    }
   ],
   "source": [
    "#5.Given a NumPy array 'arr' with float64 data type, convert it to float32 to reduce decimal precision.\n",
    "arr=np.array([1.234, 2.345, 3.456],dtype=np.float64)\n",
    "arr_2=arr.astype(np.float32)\n",
    "arr_2"
   ]
  },
  {
   "cell_type": "code",
   "execution_count": 39,
   "id": "c48dc181-6919-4dc3-aa18-087649d3b1fc",
   "metadata": {},
   "outputs": [
    {
     "name": "stdout",
     "output_type": "stream",
     "text": [
      "(2, 3)\n",
      "6\n",
      "int64\n"
     ]
    }
   ],
   "source": [
    "#6.Write a function array_attributes that takes a NumPy array as input and returns its shape, size, and data type.\n",
    "def array_attributes(arr):\n",
    "    shape = arr.shape\n",
    "    size = arr.size\n",
    "    dtype = arr.dtype\n",
    "    return shape, size, dtype\n",
    "arr = np.array([[1, 2, 3], [4, 5, 6]])\n",
    "shape, size, dtype = array_attributes(arr)\n",
    "print(shape)\n",
    "print(size)\n",
    "print(dtype)"
   ]
  },
  {
   "cell_type": "code",
   "execution_count": 44,
   "id": "137b29a1-88ec-4849-8cc0-8e3d49914b43",
   "metadata": {},
   "outputs": [
    {
     "name": "stdout",
     "output_type": "stream",
     "text": [
      "2\n"
     ]
    }
   ],
   "source": [
    "#7.Create a function array_dimension that takes a NumPy array as input and returns its dimensionality.\n",
    "def array_dimension(arr):\n",
    "    return arr.ndim\n",
    "arr=np.array([[1, 2, 3], [4, 5, 6]])\n",
    "dim=array_dimension(arr)\n",
    "print(dim)"
   ]
  },
  {
   "cell_type": "code",
   "execution_count": 49,
   "id": "e369cdc1-db9f-4f3e-9a5a-38add7a257c6",
   "metadata": {},
   "outputs": [
    {
     "name": "stdout",
     "output_type": "stream",
     "text": [
      "8\n",
      "48\n"
     ]
    }
   ],
   "source": [
    "#8.Design a function item_size_info that takes a NumPy array as input and returns the item size and the total size in byte.\n",
    "def item_size_info(arr):\n",
    "    item_size = arr.itemsize\n",
    "    total_size = item_size * arr.size\n",
    "    return item_size,total_size\n",
    "arr=np.array([[1, 2, 3],[4, 5, 6]])\n",
    "item_size,total_size=item_size_info(arr)\n",
    "print(item_size)\n",
    "print(total_size)"
   ]
  },
  {
   "cell_type": "code",
   "execution_count": 52,
   "id": "032556f6-da19-44f2-bfc9-4806e7c7df9f",
   "metadata": {},
   "outputs": [
    {
     "name": "stdout",
     "output_type": "stream",
     "text": [
      "(24, 8)\n"
     ]
    }
   ],
   "source": [
    "#9.Create a function array_strides that takes a NumPy array as input and returns the strides of the array.\n",
    "def array_strides(arr):\n",
    "     return arr.strides\n",
    "arr = np.array([[1, 2, 3], [4, 5, 6]])\n",
    "strides = array_strides(arr)\n",
    "print(strides)"
   ]
  },
  {
   "cell_type": "code",
   "execution_count": 53,
   "id": "b257eb2f-0890-45ab-85c2-64a1b4c81320",
   "metadata": {},
   "outputs": [
    {
     "name": "stdout",
     "output_type": "stream",
     "text": [
      "(2, 3)\n",
      "(24, 8)\n"
     ]
    }
   ],
   "source": [
    "#10.Design a function shape_stride_relationship that takes a NumPy array as input and returns the shape and strides of the array.\n",
    "def shape_stride_relationship(arr):\n",
    "    shape = arr.shape\n",
    "    strides = arr.strides\n",
    "    return shape, strides\n",
    "arr = np.array([[1, 2, 3], [4, 5, 6]])\n",
    "shape, strides = shape_stride_relationship(arr)\n",
    "print(shape)\n",
    "print(strides)"
   ]
  },
  {
   "cell_type": "code",
   "execution_count": 2,
   "id": "6131b222-203d-441b-91cc-2c809a0ce9b1",
   "metadata": {},
   "outputs": [
    {
     "name": "stdin",
     "output_type": "stream",
     "text": [
      "enter number: 5\n"
     ]
    },
    {
     "name": "stdout",
     "output_type": "stream",
     "text": [
      "[0. 0. 0. 0. 0.]\n"
     ]
    }
   ],
   "source": [
    "#11.Create a function `create_zeros_array` that takes an integer `n` as input and returns a NumPy array of zeros with 'n' elements.\n",
    "def create_zeros_array(n):\n",
    "    return np.zeros(n)\n",
    "n=int(input(\"enter number:\"))\n",
    "zeros_array=create_zeros_array(n)\n",
    "print(zeros_array)"
   ]
  },
  {
   "cell_type": "code",
   "execution_count": 3,
   "id": "e3fc0e36-bf8d-4151-8e13-8b642d7e7437",
   "metadata": {},
   "outputs": [
    {
     "name": "stdin",
     "output_type": "stream",
     "text": [
      "enter row: 2\n",
      "enter col: 2\n"
     ]
    },
    {
     "name": "stdout",
     "output_type": "stream",
     "text": [
      "[[1. 1.]\n",
      " [1. 1.]]\n"
     ]
    }
   ],
   "source": [
    "#12.Write a function `create_ones_matrix` that takes integers `rows` and `cols` as inputs and generates a 2D Numpy array filled with ones of size 'rows x cols'.\n",
    "def create_ones_matrix(r,c):\n",
    "    return np.ones((r,c))\n",
    "r=int(input(\"enter row:\"))\n",
    "c=int(input(\"enter col:\"))\n",
    "ones_mat=create_ones_matrix(r,c)\n",
    "print(ones_mat)"
   ]
  },
  {
   "cell_type": "code",
   "execution_count": 9,
   "id": "80c0f221-519c-47e9-bd83-9b9e387da4cd",
   "metadata": {},
   "outputs": [
    {
     "name": "stdin",
     "output_type": "stream",
     "text": [
      "enter start: 1\n",
      "enter stop: 9\n",
      "enter step: 2\n"
     ]
    },
    {
     "name": "stdout",
     "output_type": "stream",
     "text": [
      "[1 3 5 7]\n"
     ]
    }
   ],
   "source": [
    "#13.Write a function `generate_range_array` that takes three integers start,stop,and step as arguments and creates a Numpy array with a range starting from 'start',ending at stop(exclusive),and with the specified 'step'.\n",
    "def generate_range_array(start,stop,step):\n",
    "    return np.arange(start,stop,step)\n",
    "start=int(input(\"enter start:\"))\n",
    "stop=int(input(\"enter stop:\"))\n",
    "step=int(input(\"enter step:\"))\n",
    "range_array=generate_range_array(start,stop,step)\n",
    "print(range_array)"
   ]
  },
  {
   "cell_type": "code",
   "execution_count": 11,
   "id": "17cdbad8-7cb0-48a4-b07e-4cd690b519f3",
   "metadata": {},
   "outputs": [
    {
     "name": "stdin",
     "output_type": "stream",
     "text": [
      "enter start: 1\n",
      "enter stop: 9\n",
      "enter num: 4\n"
     ]
    },
    {
     "name": "stdout",
     "output_type": "stream",
     "text": [
      "[1.         3.66666667 6.33333333 9.        ]\n"
     ]
    }
   ],
   "source": [
    "#14.Design a function `generate_linear_space` that takes two floats `start`, `stop`, and an integer `num` as arguments and generates a numpy array with num equally spaced values between 'start' and 'stop'(inclusive)\n",
    "def generate_linear_space(start,stop,num):\n",
    "    return np.linspace(start,stop,num)\n",
    "start=int(input(\"enter start:\"))\n",
    "stop=int(input(\"enter stop:\"))\n",
    "num=int(input(\"enter num:\"))\n",
    "linear_space=generate_linear_space(start,stop,num)\n",
    "print(linear_space)              "
   ]
  },
  {
   "cell_type": "code",
   "execution_count": 12,
   "id": "d803cfe4-d3ed-4fae-a26b-cc5a3a6fa248",
   "metadata": {},
   "outputs": [
    {
     "name": "stdin",
     "output_type": "stream",
     "text": [
      "enter the num: 3\n"
     ]
    },
    {
     "name": "stdout",
     "output_type": "stream",
     "text": [
      "[[1. 0. 0.]\n",
      " [0. 1. 0.]\n",
      " [0. 0. 1.]]\n"
     ]
    }
   ],
   "source": [
    "#15.Create a function `create_identity_matrix` that takes an integer `n` as input and generates a square identity matrix of size 'n x n'using 'numpy.eye'.\n",
    "def create_identity_matrix(n):\n",
    "    return np.eye(n)\n",
    "n = int(input(\"enter the num:\"))\n",
    "identity_matrix = create_identity_matrix(n)\n",
    "print(identity_matrix)"
   ]
  },
  {
   "cell_type": "code",
   "execution_count": 13,
   "id": "fd0da403-efd0-45f3-a782-15edb43b21fd",
   "metadata": {},
   "outputs": [
    {
     "name": "stdin",
     "output_type": "stream",
     "text": [
      " [1,2,3,4,5]\n"
     ]
    },
    {
     "name": "stdout",
     "output_type": "stream",
     "text": [
      "['[1' '2' '3' '4' '5]']\n"
     ]
    }
   ],
   "source": [
    "#16.Write a function that takes a Python list and converts it into a NumPy array.\n",
    "def list_to_numpy_array(py_list):\n",
    "    return np.array(py_list)\n",
    "python_list =input().split(',')\n",
    "numpy_array = list_to_numpy_array(python_list)\n",
    "print(numpy_array)"
   ]
  },
  {
   "cell_type": "code",
   "execution_count": 5,
   "id": "e3b2dfa6-cb98-4ed9-a44d-f3942948c876",
   "metadata": {},
   "outputs": [
    {
     "data": {
      "text/plain": [
       "array([[1, 2, 3],\n",
       "       [4, 5, 6]])"
      ]
     },
     "execution_count": 5,
     "metadata": {},
     "output_type": "execute_result"
    }
   ],
   "source": [
    "#17.Create a NumPy array and demonstrate the use of `numpy.view` to create a new array object with the same data.\n",
    "arr=np.array([[1,2,3],[4,5,6]])\n",
    "arr1=arr.view()\n",
    "arr1"
   ]
  },
  {
   "cell_type": "code",
   "execution_count": 8,
   "id": "0dad50aa-547c-48c4-b000-b67b20a3d43e",
   "metadata": {},
   "outputs": [
    {
     "name": "stdout",
     "output_type": "stream",
     "text": [
      "[[1 2]\n",
      " [3 4]\n",
      " [5 6]]\n"
     ]
    }
   ],
   "source": [
    "#18.Write a function that takes two NumPy arrays and concatenates them along a specified axis.\n",
    "def conc(arr1,arr2,axis=0):\n",
    "    return np.concatenate((arr1, arr2), axis=axis)\n",
    "arr1=np.array([[1, 2], [3, 4]])\n",
    "arr2=np.array([[5, 6]])\n",
    "result = conc(arr1, arr2, axis=0)\n",
    "print(result)"
   ]
  },
  {
   "cell_type": "code",
   "execution_count": 9,
   "id": "8e0018b9-c8ba-4d12-9234-76ab244c9cf8",
   "metadata": {},
   "outputs": [
    {
     "name": "stdout",
     "output_type": "stream",
     "text": [
      "[[ 1  2  3  7  8]\n",
      " [ 4  5  6  9 10]]\n"
     ]
    }
   ],
   "source": [
    "#19.Create two NumPy arrays with different shapes and concatenate them horizontally using `numpy concatenate'.\n",
    "arr1 = np.array([[1, 2, 3], [4, 5, 6]])\n",
    "arr2 = np.array([[7, 8], [9, 10]])\n",
    "result = np.concatenate((arr1, arr2), axis=1)\n",
    "print(result)"
   ]
  },
  {
   "cell_type": "code",
   "execution_count": 11,
   "id": "4f061084-e32a-41b2-9187-09cffbad4495",
   "metadata": {},
   "outputs": [
    {
     "name": "stdout",
     "output_type": "stream",
     "text": [
      "[[ 1  2  3]\n",
      " [ 4  5  6]\n",
      " [ 7  8  9]\n",
      " [10 11 12]\n",
      " [13 14 15]\n",
      " [16 17 18]]\n"
     ]
    }
   ],
   "source": [
    "#20.Write a function that vertically stacks multiple NumPy arrays given as a list.\n",
    "def vertical_stack(arrays):\n",
    "    return np.vstack(arrays)\n",
    "arr1 = np.array([[1, 2, 3], [4, 5, 6]])\n",
    "arr2 = np.array([[7, 8, 9], [10, 11, 12]])\n",
    "arr3 = np.array([[13, 14, 15], [16, 17, 18]])\n",
    "stacked_array = vertical_stack([arr1, arr2, arr3])\n",
    "print(stacked_array)"
   ]
  },
  {
   "cell_type": "code",
   "execution_count": 19,
   "id": "6ce25222-1254-4755-a95b-23a5faa3573e",
   "metadata": {},
   "outputs": [],
   "source": [
    "#21.Write a Python function using NumPy to create an array of integers within a specified range(inclusive) with a given step size.\n",
    "def create_array_with_step(start, stop, step):\n",
    "    return np.arange(start, stop+1, step, dtype=int)"
   ]
  },
  {
   "cell_type": "code",
   "execution_count": 3,
   "id": "20eb7220-b589-44d8-88dc-6acb2ca718a5",
   "metadata": {},
   "outputs": [
    {
     "name": "stdout",
     "output_type": "stream",
     "text": [
      "[0.         0.11111111 0.22222222 0.33333333 0.44444444 0.55555556\n",
      " 0.66666667 0.77777778 0.88888889 1.        ]\n"
     ]
    }
   ],
   "source": [
    "#22.Write a Python function using NumPy to generate an array of 10 equally spaced values between 0 and 1(inclusive)\n",
    "def array2():\n",
    "    return np.linspace(0, 1, 10)\n",
    "result = array2()\n",
    "print(result)"
   ]
  },
  {
   "cell_type": "code",
   "execution_count": 5,
   "id": "41515bae-6d23-439e-88b0-7d0c024628e3",
   "metadata": {},
   "outputs": [
    {
     "name": "stdout",
     "output_type": "stream",
     "text": [
      "[   1.            5.62341325   31.6227766   177.827941   1000.        ]\n"
     ]
    }
   ],
   "source": [
    "#23.Write a Python function using NumPy to create an array of 5 logarithmically spaced values between 1 and 1000(inclusive)\n",
    "def array3():\n",
    "    return np.logspace(0, 3, 5)\n",
    "result = array3()\n",
    "print(result)"
   ]
  },
  {
   "cell_type": "code",
   "execution_count": 7,
   "id": "323afbca-9f87-46f4-b501-e238ff816be2",
   "metadata": {},
   "outputs": [
    {
     "data": {
      "text/html": [
       "<div>\n",
       "<style scoped>\n",
       "    .dataframe tbody tr th:only-of-type {\n",
       "        vertical-align: middle;\n",
       "    }\n",
       "\n",
       "    .dataframe tbody tr th {\n",
       "        vertical-align: top;\n",
       "    }\n",
       "\n",
       "    .dataframe thead th {\n",
       "        text-align: right;\n",
       "    }\n",
       "</style>\n",
       "<table border=\"1\" class=\"dataframe\">\n",
       "  <thead>\n",
       "    <tr style=\"text-align: right;\">\n",
       "      <th></th>\n",
       "      <th>A</th>\n",
       "      <th>B</th>\n",
       "      <th>C</th>\n",
       "    </tr>\n",
       "  </thead>\n",
       "  <tbody>\n",
       "    <tr>\n",
       "      <th>0</th>\n",
       "      <td>83</td>\n",
       "      <td>85</td>\n",
       "      <td>1</td>\n",
       "    </tr>\n",
       "    <tr>\n",
       "      <th>1</th>\n",
       "      <td>59</td>\n",
       "      <td>73</td>\n",
       "      <td>42</td>\n",
       "    </tr>\n",
       "    <tr>\n",
       "      <th>2</th>\n",
       "      <td>5</td>\n",
       "      <td>47</td>\n",
       "      <td>51</td>\n",
       "    </tr>\n",
       "    <tr>\n",
       "      <th>3</th>\n",
       "      <td>64</td>\n",
       "      <td>93</td>\n",
       "      <td>93</td>\n",
       "    </tr>\n",
       "    <tr>\n",
       "      <th>4</th>\n",
       "      <td>14</td>\n",
       "      <td>52</td>\n",
       "      <td>91</td>\n",
       "    </tr>\n",
       "  </tbody>\n",
       "</table>\n",
       "</div>"
      ],
      "text/plain": [
       "    A   B   C\n",
       "0  83  85   1\n",
       "1  59  73  42\n",
       "2   5  47  51\n",
       "3  64  93  93\n",
       "4  14  52  91"
      ]
     },
     "execution_count": 7,
     "metadata": {},
     "output_type": "execute_result"
    }
   ],
   "source": [
    "#24.Create a Pandas DataFrame using a NumPy array that contains 5 rows and 3 columns, where the values are random integers between 1 and 100.\n",
    "data = np.random.randint(1, 101, size=(5, 3))\n",
    "df = pd.DataFrame(data, columns=['A', 'B', 'C'])\n",
    "df"
   ]
  },
  {
   "cell_type": "code",
   "execution_count": 11,
   "id": "fd5bdb9a-2d63-4f40-9531-58e3f5004293",
   "metadata": {},
   "outputs": [
    {
     "data": {
      "text/html": [
       "<div>\n",
       "<style scoped>\n",
       "    .dataframe tbody tr th:only-of-type {\n",
       "        vertical-align: middle;\n",
       "    }\n",
       "\n",
       "    .dataframe tbody tr th {\n",
       "        vertical-align: top;\n",
       "    }\n",
       "\n",
       "    .dataframe thead th {\n",
       "        text-align: right;\n",
       "    }\n",
       "</style>\n",
       "<table border=\"1\" class=\"dataframe\">\n",
       "  <thead>\n",
       "    <tr style=\"text-align: right;\">\n",
       "      <th></th>\n",
       "      <th>A</th>\n",
       "    </tr>\n",
       "  </thead>\n",
       "  <tbody>\n",
       "    <tr>\n",
       "      <th>0</th>\n",
       "      <td>1</td>\n",
       "    </tr>\n",
       "    <tr>\n",
       "      <th>1</th>\n",
       "      <td>-2</td>\n",
       "    </tr>\n",
       "    <tr>\n",
       "      <th>2</th>\n",
       "      <td>3</td>\n",
       "    </tr>\n",
       "    <tr>\n",
       "      <th>3</th>\n",
       "      <td>-4</td>\n",
       "    </tr>\n",
       "    <tr>\n",
       "      <th>4</th>\n",
       "      <td>5</td>\n",
       "    </tr>\n",
       "  </tbody>\n",
       "</table>\n",
       "</div>"
      ],
      "text/plain": [
       "   A\n",
       "0  1\n",
       "1 -2\n",
       "2  3\n",
       "3 -4\n",
       "4  5"
      ]
     },
     "execution_count": 11,
     "metadata": {},
     "output_type": "execute_result"
    }
   ],
   "source": [
    "#25.Write a function that takes a Pandas DataFrame and replaces all negative values in a specific column with zeros.Use numpy operations within thw pandas dataframe.\n",
    "def replace_negative_with_zero(df, column_name):\n",
    "    df[column_name] = (df[column_name] >= 0) * df[column_name] #np.where(df[column_name] < 0, 0, df[column_name])\n",
    "    return df\n",
    "data = {'A': [1, -2, 3, -4, 5]}\n",
    "df = pd.DataFrame(data)\n",
    "df"
   ]
  },
  {
   "cell_type": "code",
   "execution_count": 12,
   "id": "9985ba97-49c2-46a5-a3b8-ff0f0b71675e",
   "metadata": {},
   "outputs": [
    {
     "name": "stdout",
     "output_type": "stream",
     "text": [
      "   A\n",
      "0  1\n",
      "1  0\n",
      "2  3\n",
      "3  0\n",
      "4  5\n"
     ]
    }
   ],
   "source": [
    "df_modified = replace_negative_with_zero(df, 'A')\n",
    "print(df_modified)"
   ]
  },
  {
   "cell_type": "code",
   "execution_count": 13,
   "id": "bd8eebed-ec64-4d8d-92c3-f9531d27ded7",
   "metadata": {},
   "outputs": [
    {
     "name": "stdout",
     "output_type": "stream",
     "text": [
      "30\n"
     ]
    }
   ],
   "source": [
    "#26.Access the 3rd element from the given NumPy array.\n",
    "arr = np.array([10, 20, 30, 40, 50])\n",
    "third_element = arr[2]\n",
    "print(third_element) "
   ]
  },
  {
   "cell_type": "code",
   "execution_count": 14,
   "id": "c8a0e412-4a9b-4faf-a747-3233e86c9ebf",
   "metadata": {},
   "outputs": [
    {
     "name": "stdout",
     "output_type": "stream",
     "text": [
      "6\n"
     ]
    }
   ],
   "source": [
    "#27.Retrieve the element at index (1, 2) from the 2D NumPy array.\n",
    "arr_2d = np.array([[1, 2, 3],[4, 5, 6],[7, 8, 9]])\n",
    "element= arr_2d[1, 2]\n",
    "print(element)"
   ]
  },
  {
   "cell_type": "code",
   "execution_count": 15,
   "id": "96cfdfb7-2cc4-49b7-9800-763c76ad9e00",
   "metadata": {},
   "outputs": [
    {
     "name": "stdout",
     "output_type": "stream",
     "text": [
      "[ 8 10  7]\n"
     ]
    }
   ],
   "source": [
    "#28.Using boolean indexing, extract elements greater than 5 from the given NumPy array.\n",
    "arr = np.array([3, 8, 2, 10, 5, 7])\n",
    "greater= arr[arr > 5]\n",
    "print(greater)"
   ]
  },
  {
   "cell_type": "code",
   "execution_count": 16,
   "id": "895544e3-fb87-4b2d-ae55-cda866183c28",
   "metadata": {},
   "outputs": [
    {
     "name": "stdout",
     "output_type": "stream",
     "text": [
      "[3 4 5 6]\n"
     ]
    }
   ],
   "source": [
    "#29.Perform basic slicing to extract elements from index 2 to 5 (inclusive) from the given NumPy array.\n",
    "arr = np.array([1, 2, 3, 4, 5, 6, 7, 8, 9])\n",
    "sli= arr[2:6]\n",
    "print(sli)"
   ]
  },
  {
   "cell_type": "code",
   "execution_count": 17,
   "id": "15b90256-c752-4432-ab7f-62e2bb062602",
   "metadata": {},
   "outputs": [
    {
     "name": "stdout",
     "output_type": "stream",
     "text": [
      "[[2 3]\n",
      " [5 6]]\n"
     ]
    }
   ],
   "source": [
    "#30.Slice the 2D NumPy array to extract the sub-array `[[2, 3], [5, 6]]` from the given array.\n",
    "arr_2d = np.array([[1, 2, 3],[4, 5, 6],[7, 8, 9]])\n",
    "sub_array = arr_2d[0:2, 1:3]\n",
    "print(sub_array)"
   ]
  },
  {
   "cell_type": "code",
   "execution_count": 3,
   "id": "f558c559-2f7a-42b7-99dc-63f9fbf2f6dd",
   "metadata": {},
   "outputs": [
    {
     "name": "stdout",
     "output_type": "stream",
     "text": [
      "[2 4 8]\n"
     ]
    }
   ],
   "source": [
    "#31.Write a NumPy function to extract elements in specific order from a given 2D array based on indices provided in another array.\n",
    "def extract_elements(arr, indices):\n",
    "    flattened_arr = arr.flatten()\n",
    "    return flattened_arr[indices]\n",
    "arr = np.array([[1, 2, 3],[4, 5, 6],[7, 8, 9]])\n",
    "indices = np.array([1,3,7])\n",
    "result = extract_elements(arr, indices)\n",
    "print(result)  "
   ]
  },
  {
   "cell_type": "code",
   "execution_count": 4,
   "id": "0f6aba0d-93c2-47dd-af3f-07e8ca937ba5",
   "metadata": {},
   "outputs": [
    {
     "name": "stdout",
     "output_type": "stream",
     "text": [
      "[15 20]\n"
     ]
    }
   ],
   "source": [
    "#32.Create a NumPy function that filters elements greater than a threshold from a given 1D array using boolean indexing.\n",
    "def greater_than(arr, threshold):\n",
    "    return arr[arr > threshold]\n",
    "arr = np.array([1, 5, 10, 15, 20])\n",
    "threshold = 10\n",
    "filtered_array = greater_than(arr, threshold)\n",
    "print(filtered_array)"
   ]
  },
  {
   "cell_type": "code",
   "execution_count": 5,
   "id": "0a268696-5f3d-4877-b64a-eb6a0fb601e8",
   "metadata": {},
   "outputs": [
    {
     "name": "stdout",
     "output_type": "stream",
     "text": [
      "[ 6 11 25]\n"
     ]
    }
   ],
   "source": [
    "#33.Develop a NumPy function that extracts specific elements from a 3D array using indices provided in three seperate arrays for each dimension.\n",
    "def extract_elements_3d(arr,dim1,dim2,dim3):\n",
    "    return arr[dim1,dim2,dim3]\n",
    "arr_3d = np.array([[[1, 2, 3],\n",
    "                    [4, 5, 6],\n",
    "                    [7, 8, 9]],\n",
    "                   [[10, 11, 12],\n",
    "                    [13, 14, 15],\n",
    "                    [16, 17, 18]],\n",
    "                   [[19, 20, 21],\n",
    "                    [22, 23, 24],\n",
    "                    [25, 26, 27]]])\n",
    "dim1 = np.array([0, 1, 2]) \n",
    "dim2 = np.array([1, 0, 2]) \n",
    "dim3 = np.array([2, 1, 0]) \n",
    "extracted_elements = extract_elements_3d(arr_3d,dim1,dim2,dim3)\n",
    "print(extracted_elements) "
   ]
  },
  {
   "cell_type": "code",
   "execution_count": 4,
   "id": "0dfa14b7-2a6a-4c25-aa9d-caad83d244bf",
   "metadata": {},
   "outputs": [
    {
     "name": "stdout",
     "output_type": "stream",
     "text": [
      "[[1 2]]\n"
     ]
    }
   ],
   "source": [
    "#34.Write a NumPy function that returns elements from an array where both two conditions are satisfied using boolean indexing.\n",
    "def conditions(arr,indices):\n",
    "    return arr[(indices[:, 0]) & (indices[:, 1])]\n",
    "arr = np.array([[1, 2], [3, 4], [5, 6]])\n",
    "indices = np.array([[True, True], [False, True], [True, False]])\n",
    "result = conditions(arr, indices)\n",
    "print(result)"
   ]
  },
  {
   "cell_type": "code",
   "execution_count": 12,
   "id": "7cd1ce97-6ccf-4f0a-918a-1d66e58d3a15",
   "metadata": {},
   "outputs": [
    {
     "name": "stdout",
     "output_type": "stream",
     "text": [
      "[1 5 9]\n"
     ]
    }
   ],
   "source": [
    "#35.Create a NumPy function that extracts elements from a 2D array using row and column indices provided in seperate arrays.\n",
    "def arr2d(arr, row, col):\n",
    "    return arr[row, col]\n",
    "arr = np.array([[1, 2, 3],\n",
    "                [4, 5, 6],\n",
    "                [7, 8, 9]])\n",
    "row_indices = np.array([0, 1, 2])\n",
    "col_indices = np.array([0, 1, 2])\n",
    "result = arr2d(arr, row_indices, col_indices)\n",
    "print(result)"
   ]
  },
  {
   "cell_type": "code",
   "execution_count": 13,
   "id": "3f101631-a1da-4b98-94cd-56dac71b8164",
   "metadata": {},
   "outputs": [
    {
     "name": "stdout",
     "output_type": "stream",
     "text": [
      "[[ 6  7  8]\n",
      " [ 9 10 11]\n",
      " [12 13 14]]\n"
     ]
    }
   ],
   "source": [
    "#36.Given an array arr of shape (3, 3), add a scalar value of 5 to each element using NumPy broadcasting.\n",
    "arr = np.array([[1, 2, 3],\n",
    "                [4, 5, 6],\n",
    "                [7, 8, 9]])\n",
    "result = arr + 5\n",
    "print(result)"
   ]
  },
  {
   "cell_type": "code",
   "execution_count": 15,
   "id": "b36365e5-74ef-4a5a-93ac-d45797ebf874",
   "metadata": {},
   "outputs": [
    {
     "name": "stdout",
     "output_type": "stream",
     "text": [
      "[[ 2  4  6  8]\n",
      " [15 18 21 24]\n",
      " [36 40 44 48]]\n"
     ]
    }
   ],
   "source": [
    "#37.Consider two arrays arr1 of shape (1, 3) and arr2 of shape (3, 4). Multiply each row of arr2 by the corresponding element in arr1 using numpy broadcasting.\n",
    "arr1 = np.array([[2, 3, 4]])\n",
    "arr2 = np.array([[1, 2, 3, 4],\n",
    "                 [5, 6, 7, 8],\n",
    "                 [9, 10, 11, 12]])\n",
    "arr1_transposed = arr1.T\n",
    "result = arr1_transposed * arr2\n",
    "print(result)"
   ]
  },
  {
   "cell_type": "code",
   "execution_count": 2,
   "id": "4acfcdd5-c5c3-473e-ad90-cfe4023399e9",
   "metadata": {},
   "outputs": [
    {
     "name": "stdout",
     "output_type": "stream",
     "text": [
      "[[ 6  7  8]\n",
      " [10 11 12]\n",
      " [14 15 16]\n",
      " [18 19 20]]\n"
     ]
    }
   ],
   "source": [
    "#38.Given a 1D array arr1 of shape (1, 4) and a 2D array arr2 of shape (4, 3), add arr1 to each row of arr2 using numpy broadcasting.\n",
    "arr1 = np.array([[1, 2, 3, 4]])  # Shape (1, 4)\n",
    "arr2 = np.array([[5, 6, 7],       # Shape (4, 3)\n",
    "                 [8, 9, 10],\n",
    "                 [11, 12, 13],\n",
    "                 [14, 15, 16]])\n",
    "arr1_trans=arr1.T\n",
    "result = arr1_trans + arr2\n",
    "print(result)"
   ]
  },
  {
   "cell_type": "code",
   "execution_count": 4,
   "id": "f4acc8e0-401b-4e9c-97c3-2fcd71bcfb41",
   "metadata": {},
   "outputs": [
    {
     "name": "stdout",
     "output_type": "stream",
     "text": [
      "[[5 6 7]\n",
      " [6 7 8]\n",
      " [7 8 9]]\n"
     ]
    }
   ],
   "source": [
    "#39.Consider two arrays arr1 of shape (3, 1) and arr2 of shape (1, 3). Add these arrays using NumPy broadcasting.\n",
    "arr1 = np.array([[1], [2], [3]])  \n",
    "arr2 = np.array([[4, 5, 6]])      \n",
    "result = arr1 + arr2\n",
    "print(result)"
   ]
  },
  {
   "cell_type": "code",
   "execution_count": 9,
   "id": "57d7ec57-9653-4c6a-922d-408f0440c46d",
   "metadata": {},
   "outputs": [
    {
     "name": "stdout",
     "output_type": "stream",
     "text": [
      "[[[ 7 14 21]\n",
      "  [32 40 48]]\n",
      "\n",
      " [[ 9 18 27]\n",
      "  [40 50 60]]]\n"
     ]
    }
   ],
   "source": [
    "#40.Given arrays arr1 of shape (2, 3) and arr2 of shape (2, 2), perform multiplication using NumPy broadcasting.Handle the shape incompatibility.\n",
    "arr1 = np.array([[1, 2, 3], [4, 5, 6]])  \n",
    "arr2 = np.array([[7, 8], [9, 10]])        \n",
    "arr2_reshaped = arr2.reshape(2, 2, 1)\n",
    "result = arr1 * arr2_reshaped\n",
    "print(result)"
   ]
  },
  {
   "cell_type": "code",
   "execution_count": 10,
   "id": "9d8d84f0-2cfb-4753-9729-dd263b36a8d3",
   "metadata": {},
   "outputs": [
    {
     "name": "stdout",
     "output_type": "stream",
     "text": [
      "[2.5 3.5 4.5]\n"
     ]
    }
   ],
   "source": [
    "#41.Calculate column wise mean for the given array:\n",
    "arr = np.array([[1, 2, 3], [4, 5, 6]])\n",
    "column_means = np.mean(arr, axis=0)\n",
    "print( column_means)"
   ]
  },
  {
   "cell_type": "code",
   "execution_count": 11,
   "id": "a2662560-d42b-46b4-8d37-41e92a84adb5",
   "metadata": {},
   "outputs": [
    {
     "name": "stdout",
     "output_type": "stream",
     "text": [
      "[2. 5.]\n"
     ]
    }
   ],
   "source": [
    "#42. Find maximum value in each row of the given array:\n",
    "arr = np.array([[1, 2, 3], [4, 5, 6]])\n",
    "row_means = np.mean(arr, axis=1)\n",
    "print(row_means)"
   ]
  },
  {
   "cell_type": "code",
   "execution_count": 13,
   "id": "8618c27e-ecbc-43b3-a219-9b9f4117fce1",
   "metadata": {},
   "outputs": [
    {
     "name": "stdout",
     "output_type": "stream",
     "text": [
      "[1 1 1]\n"
     ]
    }
   ],
   "source": [
    "#43. For the given array, find indices of maximum value in each column.\n",
    "arr = np.array([[1, 2, 3], [4, 5, 6]])\n",
    "max_indices = np.argmax(arr, axis=0)\n",
    "print(max_indices)"
   ]
  },
  {
   "cell_type": "code",
   "execution_count": 23,
   "id": "4a6ff233-eb54-4bd2-be1e-284942040242",
   "metadata": {},
   "outputs": [
    {
     "name": "stdout",
     "output_type": "stream",
     "text": [
      "[[1 2 3]\n",
      " [4 5 6]]\n",
      "[[ 6.]\n",
      " [15.]]\n"
     ]
    }
   ],
   "source": [
    "#44. For the given array, apply custom function to calculate moving sum along rows.\n",
    "def moving_sum(row):\n",
    "    return np.convolve(row, np.ones(3), mode='valid')\n",
    "arr = np.array([[1, 2, 3], [4, 5, 6]])\n",
    "moving_sum_result = np.apply_along_axis(moving_sum, axis=1, arr=arr)\n",
    "print(arr)\n",
    "print(moving_sum_result)"
   ]
  },
  {
   "cell_type": "code",
   "execution_count": 14,
   "id": "fa75345c-b683-40ad-814e-ebab9987331a",
   "metadata": {},
   "outputs": [
    {
     "name": "stdout",
     "output_type": "stream",
     "text": [
      "[False False False]\n"
     ]
    }
   ],
   "source": [
    "#45. In the given array, check if all elements in each column are even.\n",
    "arr = np.array([[2, 4, 6], [3, 5, 7]])\n",
    "even_columns = np.all(arr % 2 == 0, axis=0)\n",
    "print(even_columns)"
   ]
  },
  {
   "cell_type": "code",
   "execution_count": 2,
   "id": "005d3dcc-9574-4b21-98f8-80dfef62fad6",
   "metadata": {},
   "outputs": [
    {
     "name": "stdout",
     "output_type": "stream",
     "text": [
      "[[1 2 3]\n",
      " [4 5 6]]\n"
     ]
    }
   ],
   "source": [
    "#46.Given a NumPy array arr, reshape it into a matrix of dimensions `m` rows and `n` columns. Return the reshaped matrix.\n",
    "#original_array = np.array([1, 2, 3, 4, 5, 6])\n",
    "def reshape_array(original_array, m, n):\n",
    "    reshaped_matrix = original_array.reshape(m, n)\n",
    "    return reshaped_matrix\n",
    "original_array = np.array([1, 2, 3, 4, 5, 6])\n",
    "m = 2  \n",
    "n = 3  \n",
    "reshaped_matrix = reshape_array(original_array, m, n)\n",
    "print(reshaped_matrix)"
   ]
  },
  {
   "cell_type": "code",
   "execution_count": 6,
   "id": "1a33c453-ae32-4faf-8ad1-a5d58ea29d05",
   "metadata": {},
   "outputs": [
    {
     "name": "stdout",
     "output_type": "stream",
     "text": [
      "[1 2 3 4 5 6]\n"
     ]
    }
   ],
   "source": [
    "#47. Create a function that takes a matrix as input and returns the flattened array.\n",
    "#input_matrix = np.array([[1, 2, 3], [4, 5, 6]])\n",
    "def flatten_array(input_matrix):\n",
    "    flattened_array=input_matrix.flatten()\n",
    "    return flattened_array\n",
    "input_matrix = np.array([[1, 2, 3], [4, 5, 6]])\n",
    "flattened_array = flatten_array(input_matrix)\n",
    "print(flattened_array)"
   ]
  },
  {
   "cell_type": "code",
   "execution_count": 12,
   "id": "4858ac5b-8dfb-4912-8895-6dc3473ce64e",
   "metadata": {},
   "outputs": [
    {
     "name": "stdout",
     "output_type": "stream",
     "text": [
      "[[1 2]\n",
      " [3 4]\n",
      " [5 6]\n",
      " [7 8]]\n",
      "[[1 2 5 6]\n",
      " [3 4 7 8]]\n"
     ]
    }
   ],
   "source": [
    "#48. Write a function that concatenates two given arrays along a specified axis.\n",
    "def conc_arr(array1,array2,axis=0):\n",
    "    concatenated_array = np.concatenate((array1, array2),axis=axis)\n",
    "    return concatenated_array\n",
    "array1 = np.array([[1, 2], [3, 4]])\n",
    "array2 = np.array([[5, 6], [7, 8]])\n",
    "result1 = conc_arr(array1, array2, axis=0)\n",
    "print(result1)\n",
    "result2= conc_arr(array1, array2, axis=1)\n",
    "print(result2)"
   ]
  },
  {
   "cell_type": "code",
   "execution_count": 15,
   "id": "1698d63d-2888-457f-af1a-089e56fcd42d",
   "metadata": {
    "tags": []
   },
   "outputs": [
    {
     "name": "stdout",
     "output_type": "stream",
     "text": [
      "rows:\n",
      "[array([[1, 2, 3]]), array([[4, 5, 6]]), array([[7, 8, 9]])]\n",
      "\n",
      "columns:\n",
      "[array([[1],\n",
      "       [4],\n",
      "       [7]]), array([[2],\n",
      "       [5],\n",
      "       [8]]), array([[3],\n",
      "       [6],\n",
      "       [9]])]\n"
     ]
    }
   ],
   "source": [
    "# 49.Create a function that splits an array into multiple sub-arrays along a specified axis.\n",
    "def split_array(original_array, num_splits, axis=0):\n",
    "    sub_arrays = np.split(original_array, num_splits, axis=axis)\n",
    "    return sub_arrays\n",
    "original_array = np.array([[1, 2, 3], [4, 5, 6], [7, 8, 9]])\n",
    "result = split_array(original_array, 3, axis=0)\n",
    "print(\"rows:\")\n",
    "print(result)\n",
    "result = split_array(original_array, 3, axis=1)\n",
    "print(\"\\ncolumns:\")\n",
    "print(result)"
   ]
  },
  {
   "cell_type": "code",
   "execution_count": null,
   "id": "9bedefef-17cb-4c59-a38f-770974e5167a",
   "metadata": {},
   "outputs": [],
   "source": [
    "#50. Write a function that inserts and then deletes elements from a given array at specified indices.\n",
    "def insert_delete_elements(original_array, indices_to_insert, values_to_insert, indices_to_delete):\n",
    "    \n",
    "original_array = np.array([1, 2, 3, 4, 5])\n",
    "indices_to_insert = [2, 4]\n",
    "values_to_insert = [10, 11]\n",
    "indices_to_delete = [1, 3]\n",
    "result_array = insert_delete_elements(original_array, indices_to_insert, values_to_insert, indices_to_delete)\n",
    "print(\"Result array:\")\n",
    "print(result_array)"
   ]
  },
  {
   "cell_type": "code",
   "execution_count": 28,
   "id": "69290479-efb3-4da2-a98d-08b8568081b8",
   "metadata": {},
   "outputs": [
    {
     "name": "stdout",
     "output_type": "stream",
     "text": [
      "[[9 9 8]\n",
      " [9 1 4]\n",
      " [8 7 2]]\n",
      "[[1 2 3]\n",
      " [4 5 6]\n",
      " [7 8 9]]\n",
      "[[10 11 11]\n",
      " [13  6 10]\n",
      " [15 15 11]]\n"
     ]
    }
   ],
   "source": [
    "#51.Create a NumPy array `arr1` with random integers and another array `arr2` with integers from 1 to 10.perform element-wise addition between arr1 and arr2.\n",
    "arr1=np.random.randint(1,10,size=(3,3))\n",
    "print(arr1)\n",
    "arr2=np.arange(1,10).reshape((3,3))\n",
    "print(arr2)\n",
    "result = arr1 + arr2\n",
    "print(result)"
   ]
  },
  {
   "cell_type": "code",
   "execution_count": 29,
   "id": "8a794f54-353d-4a27-b159-29a4f5c3ba7c",
   "metadata": {},
   "outputs": [
    {
     "name": "stdout",
     "output_type": "stream",
     "text": [
      "[[9 2 5]\n",
      " [8 8 6]\n",
      " [5 1 7]]\n",
      "[[1 2 3]\n",
      " [4 5 6]\n",
      " [7 8 9]]\n",
      "[[ 8  0  2]\n",
      " [ 4  3  0]\n",
      " [-2 -7 -2]]\n"
     ]
    }
   ],
   "source": [
    "#52.Generate a NumPy array `arr1` with sequential integers from 10 to 1 and another array `arr2` with integers from 1 to 10.subtract arr2 from arr1 element-wise.\n",
    "arr1=np.random.randint(1,10,size=(3,3))\n",
    "print(arr1)\n",
    "arr2=np.arange(1,10).reshape((3,3))\n",
    "print(arr2)\n",
    "result = arr1-arr2\n",
    "print(result)"
   ]
  },
  {
   "cell_type": "code",
   "execution_count": 64,
   "id": "32ab8cf4-e797-4ae6-a4f6-803c3bec2868",
   "metadata": {},
   "outputs": [
    {
     "ename": "ValueError",
     "evalue": "operands could not be broadcast together with shapes (3,3) (5,) ",
     "output_type": "error",
     "traceback": [
      "\u001b[0;31m---------------------------------------------------------------------------\u001b[0m",
      "\u001b[0;31mValueError\u001b[0m                                Traceback (most recent call last)",
      "Cell \u001b[0;32mIn[64], line 5\u001b[0m\n\u001b[1;32m      3\u001b[0m arr2 \u001b[38;5;241m=\u001b[39m np\u001b[38;5;241m.\u001b[39marange(\u001b[38;5;241m1\u001b[39m, \u001b[38;5;241m6\u001b[39m) \n\u001b[1;32m      4\u001b[0m arr1_reshaped \u001b[38;5;241m=\u001b[39m arr1\u001b[38;5;241m.\u001b[39mT\n\u001b[0;32m----> 5\u001b[0m result \u001b[38;5;241m=\u001b[39m \u001b[43marr1_reshaped\u001b[49m\u001b[43m \u001b[49m\u001b[38;5;241;43m*\u001b[39;49m\u001b[43m \u001b[49m\u001b[43marr2\u001b[49m\n\u001b[1;32m      6\u001b[0m \u001b[38;5;28mprint\u001b[39m(result)\n",
      "\u001b[0;31mValueError\u001b[0m: operands could not be broadcast together with shapes (3,3) (5,) "
     ]
    }
   ],
   "source": [
    "#53.Create a NumPy array `arr1` with random integers and another array `arr2` with integers from 1 to 5.Perform element-wise multiplication between arr1 and arr2.\n",
    "arr1 = np.random.randint(1, 11, size=(3, 3)) \n",
    "arr2 = np.arange(1, 6) \n",
    "arr1_reshaped = arr1.T\n",
    "result = arr1_reshaped * arr2\n",
    "print(result)"
   ]
  },
  {
   "cell_type": "code",
   "execution_count": 53,
   "id": "109f1397-bd99-4f47-98b2-e51bea68db9e",
   "metadata": {},
   "outputs": [
    {
     "name": "stdout",
     "output_type": "stream",
     "text": [
      "[2. 2. 2. 2. 2.]\n"
     ]
    }
   ],
   "source": [
    "#54.Generate a NumPy array `arr1` with even integers from 2 to 10 and another array `arr2` with integers from 1 to 5.Perform element -wise division of arr1 by arr2\n",
    "arr1 = np.arange(2, 11, 2)  \n",
    "arr2 = np.arange(1, 6)  \n",
    "result= arr1 / arr2  \n",
    "print(result)"
   ]
  },
  {
   "cell_type": "code",
   "execution_count": 54,
   "id": "cc7424c8-1d53-461c-811b-10dc1029dae8",
   "metadata": {},
   "outputs": [
    {
     "name": "stdout",
     "output_type": "stream",
     "text": [
      "[ 1 16 27 16  5]\n"
     ]
    }
   ],
   "source": [
    "#55.Create a NumPy array `arr1` with integers from 1 to 5 and another array `arr2` with the same numbers reversed.Calculate the exponentiation of arr1 raised to the power of arr2 element-wise.\n",
    "arr1 = np.arange(1, 6)  \n",
    "arr2 = np.flip(arr1) \n",
    "result= np.power(arr1, arr2)  \n",
    "print(result)"
   ]
  },
  {
   "cell_type": "code",
   "execution_count": 45,
   "id": "ba3433b5-62f5-45e6-a17e-a440e4f65539",
   "metadata": {},
   "outputs": [
    {
     "name": "stdout",
     "output_type": "stream",
     "text": [
      "3\n"
     ]
    }
   ],
   "source": [
    "#56. Write a function that counts the occurrences of a specific substring within a NumPy array of strings.\n",
    "def count_substring_occurrences(arr, substring):\n",
    "    count = 0\n",
    "    for string in arr:\n",
    "        count += string.count(substring)\n",
    "    return count\n",
    "arr = np.array(['hello', 'world', 'hello', 'numpy', 'hello'])\n",
    "substring = 'hello'\n",
    "occurrences = count_substring_occurrences(arr, substring)\n",
    "print(occurrences)"
   ]
  },
  {
   "cell_type": "code",
   "execution_count": 44,
   "id": "60548e98-191e-45ca-b768-481389418e9f",
   "metadata": {},
   "outputs": [
    {
     "name": "stdout",
     "output_type": "stream",
     "text": [
      "['H', 'W', 'O', 'A', 'I', 'G', 'P', 'T']\n"
     ]
    }
   ],
   "source": [
    "#57.Write a function that extracts uppercase characters from a NumPy array of strings.\n",
    "arr = np.array(['Hello', 'World', 'OpenAI', 'GPT'])\n",
    "uppercase_chars = [char for string in arr for char in string if char.isupper()]\n",
    "print(uppercase_chars)"
   ]
  },
  {
   "cell_type": "code",
   "execution_count": 61,
   "id": "3b28215d-e093-4336-a4ad-ee3fe9979647",
   "metadata": {},
   "outputs": [
    {
     "name": "stdout",
     "output_type": "stream",
     "text": [
      "['apple' 'orange' 'grape' 'pineapple']\n"
     ]
    }
   ],
   "source": [
    "#58. Write a function that replaces occurrences of a substring in a NumPy array of strings with a new string.\n",
    "def replace(arr,old_arr,new_arr):\n",
    "    return np.array([string.replace(old_arr,new_arr)for string in arr])\n",
    "arr = np.array(['apple', 'banana', 'grape', 'pineapple'])\n",
    "new_arr = replace(arr, 'banana', 'orange')\n",
    "print(new_arr)"
   ]
  },
  {
   "cell_type": "code",
   "execution_count": 62,
   "id": "40eff00f-212f-4a2a-bcf6-539cec5bd135",
   "metadata": {},
   "outputs": [
    {
     "name": "stdout",
     "output_type": "stream",
     "text": [
      "['HelloOpen' 'WorldAI']\n"
     ]
    }
   ],
   "source": [
    "#59. Write a function that concatenates strings in a NumPy array element-wise.\n",
    "def conc(arr1,arr2):\n",
    "    return np.array([arr1[i] + arr2[i] for i in range(len(arr1))])\n",
    "arr1 = np.array(['Hello', 'World'])\n",
    "arr2 = np.array(['Open', 'AI'])\n",
    "result = conc(arr1, arr2)\n",
    "print(result)"
   ]
  },
  {
   "cell_type": "code",
   "execution_count": 63,
   "id": "34b66fb8-2963-434f-9c2b-a92af713ab8a",
   "metadata": {},
   "outputs": [
    {
     "name": "stdout",
     "output_type": "stream",
     "text": [
      "9\n"
     ]
    }
   ],
   "source": [
    "#60. Write a function that finds the length of the longest string in a NumPy array.\n",
    "def longest(arr):\n",
    "    lengths = np.array([len(string) for string in arr])\n",
    "    return np.max(lengths)\n",
    "arr = np.array(['apple', 'banana', 'grape', 'pineapple'])\n",
    "longest_length = longest(arr)\n",
    "print(longest_length)"
   ]
  },
  {
   "cell_type": "code",
   "execution_count": 2,
   "id": "47bdacbe-b0dd-4e27-9073-dc7734d40f9b",
   "metadata": {},
   "outputs": [
    {
     "name": "stdout",
     "output_type": "stream",
     "text": [
      "[654 384 380 314 762 811 680  53  67 714 520 325 768 661 843 467 175 142\n",
      " 863 257 454 892 253 505 799  25 352 649 895  64 685 295 837 744 913 846\n",
      " 555 338  25 395 685 705 420  85 974 133 880 890 423 862 268 221 798 887\n",
      " 340 540 623 215 175 556  50 596   1 422 170   7 818 529  87 428 783 440\n",
      " 903 386 668 475 305 754   4 908 548 426   8 392 393 604 924  95 361 319\n",
      " 936 518 763 882 913 791 922 805 282 278]\n",
      "509.35\n",
      "511.5\n",
      "83660.58750000001\n",
      "289.2414000450143\n"
     ]
    }
   ],
   "source": [
    "#61.Create a dataset of 100 random integers between 1 and 1000. Compute the mean, median, variance, and standard deviation of the dataset using numpy's functions.\n",
    "dataset = np.random.randint(1, 1001, 100)\n",
    "mean = np.mean(dataset)\n",
    "median = np.median(dataset)\n",
    "variance = np.var(dataset)\n",
    "std_deviation = np.std(dataset)\n",
    "print(dataset)\n",
    "print(mean)\n",
    "print(median)\n",
    "print(variance)\n",
    "print(std_deviation)"
   ]
  },
  {
   "cell_type": "code",
   "execution_count": 3,
   "id": "a9cc152d-01c9-4924-83e9-5f92d85a7158",
   "metadata": {},
   "outputs": [
    {
     "name": "stdout",
     "output_type": "stream",
     "text": [
      "[ 8 51  9 12 30 55 43 53 24 92  5 69 51 97 44 58 45 71 40 68 14 27 49 75\n",
      " 81 72 97 18 81 39 12 97 41 81 87 82 85 72 46 52 11 10 53 37 66 78 83 62\n",
      "  3 78]\n",
      "291.75\n",
      "785.0\n"
     ]
    }
   ],
   "source": [
    "#62.Generate an array of 50 random numbers between 1 and 100. Find the 25th and 75th percentiles of the dataset.\n",
    "d= np.random.randint(1, 101, 50)\n",
    "per1 = np.percentile(dataset, 25)\n",
    "per2= np.percentile(dataset, 75)\n",
    "print(d)\n",
    "print(per1)\n",
    "print(per2)"
   ]
  },
  {
   "cell_type": "code",
   "execution_count": 4,
   "id": "eeac9a90-eb4b-4aef-90fe-ce14a1134ec0",
   "metadata": {},
   "outputs": [
    {
     "name": "stdout",
     "output_type": "stream",
     "text": [
      "-0.9999999999999999\n"
     ]
    }
   ],
   "source": [
    "#63.Create two arrays representing two sets of variables. Compute the correlation coefficient between these arrays using numpy's corrcoef function\n",
    "array1 = np.array([1, 2, 3, 4, 5])\n",
    "array2 = np.array([5, 4, 3, 2, 1])\n",
    "corr= np.corrcoef(array1, array2)[0, 1]\n",
    "print(corr)"
   ]
  },
  {
   "cell_type": "code",
   "execution_count": 5,
   "id": "1d88c185-53ac-4c03-8ea3-17f9becaf16a",
   "metadata": {},
   "outputs": [
    {
     "name": "stdout",
     "output_type": "stream",
     "text": [
      "[[ 30  24  18]\n",
      " [ 84  69  54]\n",
      " [138 114  90]]\n"
     ]
    }
   ],
   "source": [
    "#64.Create two matrices and perform matrix multiplication using NumPy's `dot` function.\n",
    "matrix1 = np.array([[1, 2, 3],\n",
    "                    [4, 5, 6],\n",
    "                    [7, 8, 9]])\n",
    "matrix2 = np.array([[9, 8, 7],\n",
    "                    [6, 5, 4],\n",
    "                    [3, 2, 1]])\n",
    "result = np.dot(matrix1, matrix2)\n",
    "print(result)"
   ]
  },
  {
   "cell_type": "code",
   "execution_count": 9,
   "id": "6180b3e6-0cc9-4c9e-85ee-953e8c2ca651",
   "metadata": {},
   "outputs": [
    {
     "name": "stdout",
     "output_type": "stream",
     "text": [
      "Array: [815 330 904 187 453  45 871 486 758 116 153 769 613 839 475 692 648 176\n",
      " 218 910 991 350 522 265 589 398 932  80 193 371 320 174 892 372 261 682\n",
      " 978 263  11 285 566 845 302 483 701 176 188 882 544 905]\n",
      "10th Percentile: 171.9\n",
      "25th Percentile (First Quartile): 261.5\n",
      "50th Percentile (Median): 479.0\n",
      "75th Percentile (Third Quartile): 766.25\n",
      "90th Percentile: 904.1\n"
     ]
    }
   ],
   "source": [
    "#65.Create an array of 50 integers between 10 and 1000. Calculate the 10th, 50th (median), and 90th percentiles along with the first and third quartiles.\n",
    "arr=np.random.randint(10,1001,50)\n",
    "percentiles = np.percentile(arr, [10, 25, 50, 75, 90])\n",
    "print(\"Array:\",arr)\n",
    "print(\"10th Percentile:\", percentiles[0])\n",
    "print(\"25th Percentile (First Quartile):\", percentiles[1])\n",
    "print(\"50th Percentile (Median):\", percentiles[2])\n",
    "print(\"75th Percentile (Third Quartile):\", percentiles[3])\n",
    "print(\"90th Percentile:\", percentiles[4])"
   ]
  },
  {
   "cell_type": "code",
   "execution_count": 10,
   "id": "d0832a86-336e-4d13-b7e8-39dbabceda1b",
   "metadata": {},
   "outputs": [
    {
     "name": "stdout",
     "output_type": "stream",
     "text": [
      "[ 1  3  5  7  9 11 13 15]\n",
      "9 [4]\n"
     ]
    }
   ],
   "source": [
    "#66. Create a NumPy array of integers and find the index of a specific element.\n",
    "arr = np.array([1, 3, 5, 7, 9, 11, 13, 15])\n",
    "element= 9\n",
    "indices = np.argwhere(arr == element).flatten()\n",
    "print(arr)\n",
    "print(element,indices)"
   ]
  },
  {
   "cell_type": "code",
   "execution_count": 11,
   "id": "dcabcdf1-207d-437e-b19f-7046b4735921",
   "metadata": {},
   "outputs": [
    {
     "name": "stdout",
     "output_type": "stream",
     "text": [
      "[48 73 98 41 11 54 37  7 38 66]\n",
      "[ 7 11 37 38 41 48 54 66 73 98]\n"
     ]
    }
   ],
   "source": [
    "#67. Generate a random NumPy array and sort it in ascending order.\n",
    "random_array = np.random.randint(1, 100, size=10)\n",
    "sorted_array = np.sort(random_array)\n",
    "print(random_array)\n",
    "print(sorted_array)"
   ]
  },
  {
   "cell_type": "code",
   "execution_count": 12,
   "id": "51c15678-d747-4e31-8104-006b95c7c98c",
   "metadata": {},
   "outputs": [
    {
     "name": "stdout",
     "output_type": "stream",
     "text": [
      "[25 42 30]\n"
     ]
    }
   ],
   "source": [
    "#68.Filter elements >20  in the given NumPy array.\n",
    "arr = np.array([12, 25, 6, 42, 8, 30])\n",
    "filterr= arr[arr > 20]\n",
    "print(filterr)"
   ]
  },
  {
   "cell_type": "code",
   "execution_count": 14,
   "id": "69721510-3af1-42e3-9435-3252b0551a89",
   "metadata": {},
   "outputs": [
    {
     "name": "stdout",
     "output_type": "stream",
     "text": [
      "[12 15]\n"
     ]
    }
   ],
   "source": [
    "#69. Filter elements which are divisible by 3 from a given NumPy array.\n",
    "arr = np.array([1, 5, 8, 12, 15])\n",
    "filterr=arr[arr%3==0]\n",
    "print(filterr)"
   ]
  },
  {
   "cell_type": "code",
   "execution_count": 16,
   "id": "c241b10a-e3cb-4f4d-bef3-403c4b0b3e12",
   "metadata": {},
   "outputs": [
    {
     "name": "stdout",
     "output_type": "stream",
     "text": [
      "[20 30 40]\n"
     ]
    }
   ],
   "source": [
    "#70. Filter elements which are ≥ 20 and ≤ 40 from a given NumPy array.\n",
    "arr = np.array([10, 20, 30, 40, 50])\n",
    "filterr=arr[(arr >= 20) & (arr <= 40)]\n",
    "print(filterr)"
   ]
  },
  {
   "cell_type": "code",
   "execution_count": 18,
   "id": "9b394858-9d79-46d8-9e63-2bc67743cb1b",
   "metadata": {},
   "outputs": [
    {
     "name": "stdout",
     "output_type": "stream",
     "text": [
      "=\n"
     ]
    }
   ],
   "source": [
    "#71. For the given NumPy array, check its byte order using the `dtype` attribute byteorder.\n",
    "arr = np.array([1, 2, 3])\n",
    "byte_order = arr.dtype.byteorder\n",
    "print(byte_order)"
   ]
  },
  {
   "cell_type": "code",
   "execution_count": 19,
   "id": "c66c5738-19f2-422b-bdc4-62a3b1a6969b",
   "metadata": {},
   "outputs": [
    {
     "name": "stdout",
     "output_type": "stream",
     "text": [
      "[16777216 33554432 50331648]\n"
     ]
    }
   ],
   "source": [
    "#72. For the given NumPy array, perform byte swapping in place using `byteswap()`.\n",
    "arr = np.array([1, 2, 3], dtype=np.int32)\n",
    "arr.byteswap(inplace=True)\n",
    "print(arr)"
   ]
  },
  {
   "cell_type": "code",
   "execution_count": 20,
   "id": "be45256a-8d5a-4474-ac2c-8d1a26a59a01",
   "metadata": {},
   "outputs": [
    {
     "name": "stdout",
     "output_type": "stream",
     "text": [
      "[16777216 33554432 50331648]\n"
     ]
    }
   ],
   "source": [
    "#73.For the given NumPy array, swap its byte order without modifying the original array using newbyteorder().\n",
    "arr = np.array([1, 2, 3], dtype=np.int32)\n",
    "swapped= arr.newbyteorder()\n",
    "print(swapped)"
   ]
  },
  {
   "cell_type": "code",
   "execution_count": 21,
   "id": "ee3cabac-50f8-47cd-b120-c0b9a923d166",
   "metadata": {},
   "outputs": [
    {
     "name": "stdout",
     "output_type": "stream",
     "text": [
      "[1 2 3]\n"
     ]
    }
   ],
   "source": [
    "#74.For the given NumPy array and swap its byte order conditionally based on system endianness using newbyteorder().\n",
    "arr = np.array([1, 2, 3], dtype=np.int32)\n",
    "swapped_arr = arr.newbyteorder('<' if arr.dtype.byteorder != '=' else '=')\n",
    "print(swapped_arr)"
   ]
  },
  {
   "cell_type": "code",
   "execution_count": 22,
   "id": "fc35751b-19ac-4712-8d94-8c4ce8eda8c3",
   "metadata": {},
   "outputs": [
    {
     "name": "stdout",
     "output_type": "stream",
     "text": [
      "False\n"
     ]
    }
   ],
   "source": [
    "#75.For the given NumPy array, check if byte swapping is necessary for the current system using `dtype` attribute byteorder\n",
    "arr = np.array([1, 2, 3], dtype=np.int32)\n",
    "byte_swapping_needed = arr.dtype.byteorder != '='\n",
    "print(byte_swapping_needed )"
   ]
  },
  {
   "cell_type": "code",
   "execution_count": 32,
   "id": "610f6dd5-0c03-4abe-81de-58134b89c4d7",
   "metadata": {},
   "outputs": [
    {
     "name": "stdout",
     "output_type": "stream",
     "text": [
      "[ 1  2  3  4  5  6  7  8  9 10]\n",
      "[100   2   3   4   5   6   7   8   9  10]\n"
     ]
    }
   ],
   "source": [
    "#76.Create a NumPy array `arr1` with values from 1 to 10. Create a copy of `arr1` named `copy_arr` and modify an element  in `copy_arr`. Check if modifying `copy_arr` affects `arr1`.\n",
    "arr1 = np.arange(1, 11)\n",
    "copy_arr = arr1.copy()\n",
    "copy_arr[0] = 100\n",
    "print(arr1)\n",
    "print(copy_arr)"
   ]
  },
  {
   "cell_type": "code",
   "execution_count": 33,
   "id": "1e0e813c-b2d5-4114-a328-9289d8aab8eb",
   "metadata": {},
   "outputs": [
    {
     "name": "stdout",
     "output_type": "stream",
     "text": [
      "[[999  81  23]\n",
      " [ 65  58  53]\n",
      " [ 43  66  35]]\n",
      "[[999  81]\n",
      " [ 65  58]]\n"
     ]
    }
   ],
   "source": [
    "#77.Create a 2D NumPy array `matrix` of shape (3, 3) with random integers. Extract a slice `view_slice` from the matrix . Modify an element in `view_slice` and observe if it changes the original `matrix`.\n",
    "matrix = np.random.randint(1, 100, size=(3, 3))\n",
    "view_slice = matrix[:2, :2]\n",
    "view_slice[0, 0] = 999\n",
    "print(matrix)\n",
    "print(view_slice)"
   ]
  },
  {
   "cell_type": "code",
   "execution_count": 34,
   "id": "2d8e1bdd-9671-446f-b711-b3c818650869",
   "metadata": {},
   "outputs": [
    {
     "name": "stdout",
     "output_type": "stream",
     "text": [
      "[[ 6  7  3]\n",
      " [ 9 10  6]\n",
      " [ 7  8  9]\n",
      " [10 11 12]]\n",
      "[[ 6  7]\n",
      " [ 9 10]]\n"
     ]
    }
   ],
   "source": [
    "#78.Create a NumPy array `array_a` of shape (4, 3) with sequential integers from 1 to 12. Extract a slice `view_b` from `array_a` and broadcast the addition of 5 to view_b. Check if it alters the original `array_a`.\n",
    "array_a = np.arange(1, 13).reshape(4, 3)\n",
    "view_b = array_a[:2, :2]\n",
    "view_b += 5\n",
    "print(array_a)\n",
    "print(view_b)"
   ]
  },
  {
   "cell_type": "code",
   "execution_count": 31,
   "id": "7efc0fc0-fb09-4fbe-9ab9-50f4d07d2fe1",
   "metadata": {},
   "outputs": [
    {
     "name": "stdout",
     "output_type": "stream",
     "text": [
      "[[100   2   3   4]\n",
      " [  5   6   7   8]]\n",
      "[[100   2]\n",
      " [  3   4]\n",
      " [  5   6]\n",
      " [  7   8]]\n"
     ]
    }
   ],
   "source": [
    "#79. Create a NumPy array `orig_array` of shape (2, 4) with values from 1 to 8. Create a reshaped view 'reshaped_view` of shape (4, 2) from orig_array. Modify an element in `reshaped_view` and check if it reflects changes in the original `orig_array`. \n",
    "orig_array = np.arange(1, 9).reshape(2, 4)\n",
    "reshaped_view = orig_array.reshape(4, 2)\n",
    "reshaped_view[0, 0] = 100\n",
    "print(orig_array)\n",
    "print(reshaped_view)"
   ]
  },
  {
   "cell_type": "code",
   "execution_count": 30,
   "id": "6001d306-3d24-403a-829b-d711b883770f",
   "metadata": {},
   "outputs": [
    {
     "name": "stdout",
     "output_type": "stream",
     "text": [
      "[[7 2 1 7]\n",
      " [6 1 9 6]\n",
      " [9 5 5 8]]\n",
      "[10  7  6  9  6  9  8]\n"
     ]
    }
   ],
   "source": [
    "#80. Create a NumPy array `data` of shape (3, 4) with random integers. Extract a copy `data_copy` of elements greater than 5. Modify an element in `data_copy` and verify if it affects the original `data`.\n",
    "data = np.random.randint(1, 10, size=(3, 4))\n",
    "data_copy = np.copy(data[data > 5])\n",
    "data_copy[0] = 10\n",
    "print(data)\n",
    "print(data_copy)"
   ]
  },
  {
   "cell_type": "code",
   "execution_count": 24,
   "id": "3a76817b-8524-4fda-aebc-2221e4f47b62",
   "metadata": {},
   "outputs": [
    {
     "name": "stdout",
     "output_type": "stream",
     "text": [
      "[[ 8 10 12]\n",
      " [14 16 18]]\n",
      "[[-6 -6 -6]\n",
      " [-6 -6 -6]]\n"
     ]
    }
   ],
   "source": [
    "#81.Create two matrices A and B of identical shape containing integers and perform addition and subtraction operations between them.\n",
    "A = np.array([[1, 2, 3],\n",
    "              [4, 5, 6]])\n",
    "\n",
    "B = np.array([[7, 8, 9],\n",
    "              [10, 11, 12]])\n",
    "add= A + B\n",
    "sub= A - B\n",
    "print(add)\n",
    "print(sub)"
   ]
  },
  {
   "cell_type": "code",
   "execution_count": 25,
   "id": "c7c27502-a173-4536-a9e1-13d9baae35fc",
   "metadata": {},
   "outputs": [
    {
     "name": "stdout",
     "output_type": "stream",
     "text": [
      "[[ 29  32  35  38]\n",
      " [ 65  72  79  86]\n",
      " [101 112 123 134]]\n"
     ]
    }
   ],
   "source": [
    "#82. Generate two matrices `C` (3x2) and `D` (2x4) and perform matrix multiplication.\n",
    "C = np.array([[1, 2],\n",
    "              [3, 4],\n",
    "              [5, 6]])\n",
    "D = np.array([[7, 8, 9, 10],\n",
    "              [11, 12, 13, 14]])\n",
    "mul=np.dot(C, D)\n",
    "print(mul)"
   ]
  },
  {
   "cell_type": "code",
   "execution_count": 26,
   "id": "30789a52-5bc0-437e-bd42-d8acb570b17d",
   "metadata": {},
   "outputs": [
    {
     "name": "stdout",
     "output_type": "stream",
     "text": [
      "[[1 4 7]\n",
      " [2 5 8]\n",
      " [3 6 9]]\n"
     ]
    }
   ],
   "source": [
    "#83. Create a matrix `E` and find its transpose.\n",
    "E = np.array([[1, 2, 3],\n",
    "              [4, 5, 6],\n",
    "              [7, 8, 9]])\n",
    "e=E.T\n",
    "print(e)"
   ]
  },
  {
   "cell_type": "code",
   "execution_count": 27,
   "id": "b7ca1647-6d37-4808-82b1-62d47f02b04d",
   "metadata": {},
   "outputs": [
    {
     "name": "stdout",
     "output_type": "stream",
     "text": [
      "0.0\n"
     ]
    }
   ],
   "source": [
    "#84. Generate a square matrix `F` and compute its determinant.\n",
    "F = np.array([[1, 2, 3],\n",
    "              [4, 5, 6],\n",
    "              [7, 8, 9]])\n",
    "f= np.linalg.det(F)\n",
    "print(f)"
   ]
  },
  {
   "cell_type": "code",
   "execution_count": 28,
   "id": "5ceaaab4-ec04-41a6-bab7-701c5396bd80",
   "metadata": {},
   "outputs": [
    {
     "name": "stdout",
     "output_type": "stream",
     "text": [
      "[[-2.   1. ]\n",
      " [ 1.5 -0.5]]\n"
     ]
    }
   ],
   "source": [
    "#85. Create a square matrix `G` and find its inverse.\n",
    "G = np.array([[1, 2],\n",
    "              [3, 4]])\n",
    "inverse=np.linalg.inv(G)\n",
    "print(inverse)"
   ]
  }
 ],
 "metadata": {
  "kernelspec": {
   "display_name": "Python 3 (ipykernel)",
   "language": "python",
   "name": "python3"
  },
  "language_info": {
   "codemirror_mode": {
    "name": "ipython",
    "version": 3
   },
   "file_extension": ".py",
   "mimetype": "text/x-python",
   "name": "python",
   "nbconvert_exporter": "python",
   "pygments_lexer": "ipython3",
   "version": "3.10.8"
  }
 },
 "nbformat": 4,
 "nbformat_minor": 5
}
